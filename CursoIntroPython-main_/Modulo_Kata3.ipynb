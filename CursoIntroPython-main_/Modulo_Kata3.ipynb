{
 "cells": [
  {
   "cell_type": "markdown",
   "metadata": {},
   "source": [
    "A la letra 'a' le asigno el valor de 93.\n",
    "A la letra 'b' le asigno el valor de 27.\n",
    "SI a(93) es mayor o igual a b(27) entonces:\n",
    "Muestra (print) el valor de a(93)"
   ]
  },
  {
   "cell_type": "code",
   "execution_count": null,
   "metadata": {},
   "outputs": [],
   "source": []
  },
  {
   "cell_type": "code",
   "execution_count": 1,
   "metadata": {},
   "outputs": [
    {
     "name": "stdout",
     "output_type": "stream",
     "text": [
      "93\n"
     ]
    }
   ],
   "source": [
    "# Aplica el tip de práctica 1.\n",
    "a = 93\n",
    "b = 27\n",
    "if a >= b:\n",
    "    print(a)\n",
    "    "
   ]
  },
  {
   "cell_type": "code",
   "execution_count": 2,
   "metadata": {},
   "outputs": [
    {
     "name": "stdout",
     "output_type": "stream",
     "text": [
      "44\n"
     ]
    }
   ],
   "source": [
    "a = 24\n",
    "b = 44\n",
    "if a <= 0:\n",
    "    print(a)\n",
    "print(b)"
   ]
  },
  {
   "cell_type": "markdown",
   "metadata": {},
   "source": [
    "En este ejemplo, si a no es mayor o igual que b, no pasa nada. Supongamos que desea imprimir b si la expresión de prueba es False:"
   ]
  },
  {
   "cell_type": "code",
   "execution_count": 3,
   "metadata": {},
   "outputs": [
    {
     "name": "stdout",
     "output_type": "stream",
     "text": [
      "93\n"
     ]
    }
   ],
   "source": [
    "a = 93\n",
    "b = 27\n",
    "if a >= b:\n",
    "    print(a)\n",
    "else:\n",
    "    print(b)"
   ]
  },
  {
   "cell_type": "markdown",
   "metadata": {},
   "source": [
    "la palabra clave elif es la abreviatura de else if. El uso de instrucciones elif te permite agregar varias expresiones de prueba al programa. Estas instrucciones se ejecutan en el orden en que están escritas, por lo que el programa ingresará una instrucción elif solo si la primera instrucción if es False "
   ]
  },
  {
   "cell_type": "code",
   "execution_count": 4,
   "metadata": {},
   "outputs": [
    {
     "name": "stdout",
     "output_type": "stream",
     "text": [
      "a es mayor o igual que b\n"
     ]
    }
   ],
   "source": [
    "a = 93\n",
    "b = 27\n",
    "if a >= b:\n",
    "    print(\"a es mayor o igual que b\")\n",
    "elif a == b:\n",
    "    print(\"a es igual que b\")"
   ]
  },
  {
   "cell_type": "markdown",
   "metadata": {},
   "source": [
    "Puedes combinar sentencias if , elif, y else para crear programas con lógica condicional compleja. Recuerda que una instrucción elif sólo se ejecuta cuando la condición if es False. También ten en cuenta que un bloque if puede tener solo un bloque else, pero puede tener varios bloques elif."
   ]
  },
  {
   "cell_type": "code",
   "execution_count": 5,
   "metadata": {},
   "outputs": [
    {
     "name": "stdout",
     "output_type": "stream",
     "text": [
      "a es mayor que b\n"
     ]
    }
   ],
   "source": [
    "a = 93\n",
    "b = 27\n",
    "if a > b:\n",
    "    print(\"a es mayor que b\")\n",
    "elif a < b:\n",
    "    print(\"a es menor que b\")\n",
    "else: \n",
    "    print (\"a es igual que b\")"
   ]
  },
  {
   "cell_type": "markdown",
   "metadata": {},
   "source": [
    "anidar sentencias if , elif, y else, para crear programas aún más complejos. Para anidar condiciones, indenta las condiciones internas y todo lo que esté en el mismo nivel de sangría se ejecutará en el mismo bloque de código:"
   ]
  },
  {
   "cell_type": "code",
   "execution_count": 6,
   "metadata": {},
   "outputs": [
    {
     "name": "stdout",
     "output_type": "stream",
     "text": [
      "a es menor que b\n"
     ]
    }
   ],
   "source": [
    "a = 16\n",
    "b = 25\n",
    "c = 27\n",
    "if a > b:\n",
    "    if b > c:\n",
    "        print (\"a es mayor que b y b es mayor que c\")\n",
    "    else: \n",
    "        print (\"a es mayor que b y menor que c\")\n",
    "elif a == b:\n",
    "    print (\"a es igual que b\")\n",
    "else:\n",
    "    print (\"a es menor que b\")"
   ]
  },
  {
   "cell_type": "markdown",
   "metadata": {},
   "source": [
    "if expresion_prueba:\n",
    "    # instrucción(es) a ejecutar\n",
    "    if expresion_prueba:\n",
    "        # instrucción(es) a ejecutar\n",
    "    else: \n",
    "        # instrucción(es) a ejecutar\n",
    "elif expresion_prueba:\n",
    "    # instrucción(es) a ejecutar\n",
    "    if expresion_prueba:\n",
    "        # instrucción(es) a ejecutar\n",
    "    else: \n",
    "        # instrucción(es) a ejecutar\n",
    "else:\n",
    "    # instrucción(es) a ejecutar"
   ]
  },
  {
   "cell_type": "code",
   "execution_count": 7,
   "metadata": {},
   "outputs": [
    {
     "name": "stdout",
     "output_type": "stream",
     "text": [
      "57\n"
     ]
    }
   ],
   "source": [
    "#OR\n",
    "a = 23\n",
    "b = 34\n",
    "if a == 34 or b == 34:\n",
    "    print(a + b)"
   ]
  },
  {
   "cell_type": "code",
   "execution_count": 14,
   "metadata": {},
   "outputs": [
    {
     "name": "stdout",
     "output_type": "stream",
     "text": [
      "AMBOS NÚMERO deben ser 34.\n"
     ]
    }
   ],
   "source": [
    "#AND\n",
    "a = 23\n",
    "b = 34\n",
    "if a == 34 and b == 34:\n",
    "    print (a + b)\n",
    "else:\n",
    "    print(\"AMBOS NÚMERO deben ser 34.\")"
   ]
  },
  {
   "cell_type": "markdown",
   "metadata": {},
   "source": [
    " escribirás una lógica condicional que imprima una advertencia si un asteroide se acerca a la Tierra demasiado rápido. La velocidad del asteroide varía dependiendo de lo cerca que esté del sol, y cualquier velocidad superior a 25 kilómetros por segundo (km/s) merece una advertencia.\n",
    "\n",
    "Un asteroide se acerca, y viaja a una velocidad de 49 km/s."
   ]
  },
  {
   "cell_type": "code",
   "execution_count": 22,
   "metadata": {},
   "outputs": [
    {
     "name": "stdout",
     "output_type": "stream",
     "text": [
      "Todo está bien ntp.\n"
     ]
    }
   ],
   "source": [
    "velocidad = 49\n",
    "\n",
    "if(velocidad >= 25):\n",
    "    print(\"¡NO te vayas a morir, ahí viene un ASTEROIDE!\")\n",
    "\n",
    "else:\n",
    "    print(\"Todo está bien ntp.\");"
   ]
  },
  {
   "cell_type": "markdown",
   "metadata": {},
   "source": [
    "Si un asteroide entra en la atmósfera de la Tierra a una velocidad mayor o igual a 20 km/s, a veces produce un rayo de luz que se puede ver desde la Tierra. Escribe la lógica condicional que usa declaraciones if, else, y elif para alertar a las personas de todo el mundo que deben buscar un asteroide en el cielo. ¡Hay uno que se dirige a la tierra ahora a una velocidad de 19 km/s!"
   ]
  },
  {
   "cell_type": "markdown",
   "metadata": {},
   "source": []
  },
  {
   "cell_type": "code",
   "execution_count": 27,
   "metadata": {},
   "outputs": [
    {
     "name": "stdout",
     "output_type": "stream",
     "text": [
      "¡NO valores Negativos!\n"
     ]
    }
   ],
   "source": [
    "velocidad = 19\n",
    "\n",
    "if(velocidad >= 20):\n",
    "    print(\"¿Quieres ver un asteroide?¿No has visto ninguno en tu vida? ¡Es TU OPORTUNIDAD, Porque Está uno en camino!\");\n",
    "elif(velocidad <= 0):\n",
    "    print(\"¡NO valores Negativos!\");\n",
    "else:\n",
    "    print(\"No rasto de ningún asteroide\");"
   ]
  },
  {
   "cell_type": "markdown",
   "metadata": {},
   "source": [
    "En este ejercicio, aprenderás información más matizada sobre cuándo los asteroides representan un peligro para la Tierra, y utilizarás esa información para mejorar nuestro sistema de advertencia. Aquí está la nueva información que necesitas saber:\n",
    "\n",
    "*Los asteroides de menos de 25 metros en su dimensión más grande probablemente se quemarán a medida que entren en la atmósfera de la Tierra.\n",
    "\n",
    "Si una pieza de un asteroide que es más grande que 25 metros pero más pequeña que 1000 metros golpeara la Tierra, causaría mucho daño.\n",
    "También discutimos en el ejercicio anterior que:\n",
    "\n",
    "La velocidad del asteroide varía en función de lo cerca que esté del sol, y cualquier velocidad superior a 25 kilómetros por segundo (km/s) merece una advertencia.\n",
    "Si un asteroide entra en la atmósfera de la Tierra a una velocidad mayor o igual a 20 km/s, a veces produce un rayo de luz que se puede ver desde la Tierra."
   ]
  },
  {
   "cell_type": "code",
   "execution_count": 2,
   "metadata": {},
   "outputs": [
    {
     "name": "stdout",
     "output_type": "stream",
     "text": [
      "El asteroide hará mucho daño.\n"
     ]
    }
   ],
   "source": [
    "concatenacion_Advertencia = \"\"\n",
    "tamanio = 26\n",
    "velocidad = 26\n",
    "\n",
    "if((velocidad > 0) and (tamanio > 0)):\n",
    "  \n",
    "    if((tamanio > 25) and (tamanio < 1000) and (velocidad >25)):\n",
    "        concatenacion_Advertencia = \"El asteroide hará mucho daño.\"\n",
    "    else:\n",
    "\n",
    "        if(velocidad >= 20):\n",
    "            concatenacion_Advertencia +=\"¿Quieres ver un asteroide?¿No has visto ninguno en tu vida? ¡Es TU OPORTUNIDAD, Porque Está uno en camino!\"\n",
    "        elif(tamanio < 25):\n",
    "            concatenacion_Advertencia += \"Viene un asteroide PERO NO pasa nada, se quemará en cuanto entre a la atmósfera.\"\n",
    "        else:\n",
    "            concatenacion_Advertencia += \"No hay peligro ni rasto de un asteroide\"\n",
    "\n",
    "else :\n",
    "     print(\"¡NO valores Negativos!\")\n",
    "\n",
    "print(concatenacion_Advertencia);"
   ]
  },
  {
   "cell_type": "code",
   "execution_count": 7,
   "metadata": {},
   "outputs": [
    {
     "name": "stdout",
     "output_type": "stream",
     "text": [
      "el asteroide hará mucho daño.\n"
     ]
    }
   ],
   "source": [
    "print(concatenacion_Advertencia.upper())#Lo hace mayúsculas.\n",
    "print(concatenacion_Advertencia.lower()) #Lo hace minúsculas.\n",
    "print(concatenacion_Advertencia.islower())\n",
    "print(concatenacion_Advertencia.lstrip()) #borra todo lo que tenga al principio\n",
    "print(concatenacion_Advertencia.strip()) #quita los espacios\n",
    "\n",
    "\n"
   ]
  },
  {
   "cell_type": "markdown",
   "metadata": {},
   "source": [
    "Explicación de un LISTA: Miércoles, 2:06:28 en adelante."
   ]
  }
 ],
 "metadata": {
  "interpreter": {
   "hash": "c4d8f7084fc32601f1307c233f7df9a5badfaa8b550aec32374c9e6cfe0b9bbf"
  },
  "kernelspec": {
   "display_name": "Python 3.10.0 64-bit",
   "language": "python",
   "name": "python3"
  },
  "language_info": {
   "codemirror_mode": {
    "name": "ipython",
    "version": 3
   },
   "file_extension": ".py",
   "mimetype": "text/x-python",
   "name": "python",
   "nbconvert_exporter": "python",
   "pygments_lexer": "ipython3",
   "version": "3.10.0"
  },
  "orig_nbformat": 4
 },
 "nbformat": 4,
 "nbformat_minor": 2
}
